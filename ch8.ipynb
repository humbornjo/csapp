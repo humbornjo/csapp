{
 "cells": [
  {
   "cell_type": "markdown",
   "id": "5b63a31f-4f08-40a3-ab26-1d79de9579d8",
   "metadata": {},
   "source": [
    "# 8 Exceptional Control Flow\n",
    "\n",
    "## 8.1 Exceptions\n",
    "An _exception_ is an abrupt change in the control flow in response to some\n",
    "change in the processor’s state. **Figure 8.1** shows the basic idea.\n",
    "\n",
    "![](asset/ch8/1.png)\n",
    "\n",
    "In the figure, the processor is executing some current instruction $I_{curr}$ when a significant change in the processor’s `state` occurs. The state is encoded in various bits and signals inside the processor. The change in state is known as an `event`.\n",
    "\n",
    "The event might be directly related to the execution of the current instruction.\n",
    "For example, a virtual memory page fault occurs, an arithmetic overflow occurs,\n",
    "or an instruction attempts a divide by zero. On the other hand, the event might be\n",
    "unrelated to the execution of the current instruction. For example, a system timer\n",
    "goes off or an I/O request completes.\n",
    "\n",
    "In any case, when the processor detects that the event has occurred, it makes\n",
    "an indirect procedure call (the exception), through a jump table called an _exception table_, to an operating system subroutine (the _exception handler_) that is specifically designed to process this particular kind of event. When the exception handler finishes processing, one of three things happens, depending on the type of event that caused the exception:\n",
    "\n",
    "1. The handler returns control to the current instruction $I_{curr}$ , the instruction that was executing when the event occurred.\n",
    "2. The handler returns control to $I_{next}$, the instruction that would have executed next had the exception not occurred.\n",
    "3. The handler aborts the interrupted program\n",
    "\n",
    "### 8.1.1 Exception Handling\n",
    "Each type of possible exception in a system is assigned a unique nonnegative\n",
    "integer _exception number_. Some of these numbers are assigned by the designers\n",
    "of the processor. Other numbers are assigned by the designers of the operating\n",
    "system _kernel_ (the memory-resident part of the operating system).\n",
    "\n",
    "Each type of possible exception in a system is assigned a unique nonnegative integer _exception number_. Some of these numbers are assigned by the designers of the processor. Other numbers are assigned by the designers of the operating system _kernel_ (**the memory-resident part of the operating system**). Examples of the former include divide by zero, page faults, memory access violations, breakpoints, and arithmetic overflows. Examples of the latter include system calls and signals from external I/O devices.\n",
    "\n",
    "![](asset/ch8/2.png)\n",
    "\n",
    "At system boot time (when the computer is reset or powered on), the operating system allocates and initializes a jump table called an _exception table_, so that entry $k$ contains the address of the handler for exception $k$. **Figure 8.2** shows the format of an exception table.\n",
    "\n",
    "![](asset/ch8/3.png)\n",
    "\n",
    "At run time (when the system is executing some program), the processor detects that an event has occurred and determines the corresponding exception number $k$. The processor then triggers the exception by making an indirect procedure call, through entry $k$ of the exception table, to the corresponding handler. **Figure 8.3** shows how the processor uses the exception table to form the address of the appropriate exception handler. The exception number is an index into the exception table, whose starting address is contained in a special CPU register called the _exception table base register_.\n",
    "\n",
    "An exception is akin to a procedure call, but with some important differences:\n",
    "* As with a procedure call, the processor pushes a return address on the stack before branching to the handler. However, depending on the class of exception, the return address is either the current instruction or the next instruction.\n",
    "* The processor also pushes some additional processor state onto the stack that will be necessary to restart the interrupted program when the handler returns. For example, an x86-64 system pushes the EFLAGS register containing the current condition codes, among other things, onto the stack.\n",
    "* When control is being transferred from a user program to the kernel, all of these items are pushed onto the kernel’s stack rather than onto the user’s stack.\n",
    "* Exception handlers run in _kernel mode_, which means they have\n",
    "complete access to all system resources.\n",
    "\n",
    "Once the hardware triggers the exception, the rest of the work is done in software by the exception handler. After the handler has processed the event, it optionally returns to the interrupted program by executing a special “return from interrupt” instruction, which pops the appropriate state back into the processor’s control and data registers, restores the state to _user mode_ if the exception interrupted a user program, and then returns control to the interrupted program."
   ]
  },
  {
   "cell_type": "markdown",
   "id": "e18aeabd-0c46-45d0-9a1d-eabbb7e50a01",
   "metadata": {},
   "source": [
    "### 8.1.2 Classes of Exceptions\n",
    "\n",
    "Exceptions can be divided into four classes: _interrupts, traps, faults, and aborts_. The table in **Figure 8.4** summarizes the attributes of these classes.\n",
    "\n",
    "![](asset/ch8/4.png)\n",
    "\n",
    "**Interrupts** \n",
    "_Interrupts_ occur _asynchronously_ as a result of signals from I/O devices that are external to the processor. Hardware interrupts are asynchronous in the sense that they are not caused by the execution of any particular instruction. Exception handlers for hardware interrupts are often called _interrupt handlers_.\n"
   ]
  },
  {
   "cell_type": "code",
   "execution_count": null,
   "id": "cbbbd179-6378-4d38-bf59-b3f4b16f855d",
   "metadata": {},
   "outputs": [],
   "source": []
  }
 ],
 "metadata": {
  "kernelspec": {
   "display_name": "Python 3 (ipykernel)",
   "language": "python",
   "name": "python3"
  },
  "language_info": {
   "codemirror_mode": {
    "name": "ipython",
    "version": 3
   },
   "file_extension": ".py",
   "mimetype": "text/x-python",
   "name": "python",
   "nbconvert_exporter": "python",
   "pygments_lexer": "ipython3",
   "version": "3.11.7"
  }
 },
 "nbformat": 4,
 "nbformat_minor": 5
}
