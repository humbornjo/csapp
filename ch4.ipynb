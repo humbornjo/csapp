{
 "cells": [
  {
   "cell_type": "markdown",
   "id": "54ebe9cd-f731-4c91-9027-69ba47c08c7d",
   "metadata": {},
   "source": [
    "# Processor Architecture\n",
    "\n",
    "As a result, the processor can\n",
    "be executing the different steps of up to five instructions simultaneously. Making this processor preserve the sequential behavior of the Y86-64 ISA **requires\n",
    "handling a variety of hazard conditions**, where the location or operands of one\n",
    "instruction depend on those of other instructions that are still in the pipeline.\n",
    "\n",
    "我不理解 hazard condition. p390"
   ]
  },
  {
   "cell_type": "markdown",
   "id": "264c9419-846b-46e5-a03e-241c25c1c888",
   "metadata": {},
   "source": [
    "## 4.1 The Y86-64 Instruction Set Architecture\n",
    "Defining an instruction set architecture, such as Y86-64, includes \n",
    "* defining the\n",
    "different components of its state.\n",
    "* the set of instructions and their encodings, a\n",
    "set of programming conventions.\n",
    "* the handling of exceptional events.\n",
    "\n",
    "### 4.1.1 Programmer-Visible State\n",
    "![](./asset/ch4/1.png)\n",
    "### 4.1.2 Y86-64 Instructions\n",
    "![](./asset/ch4/2.png)\n",
    "=> refer to p393 <=\n",
    "\n",
    "### 4.1.3 Instruction Encoding\n",
    "Every\n",
    "instruction has an initial byte identifying the instruction type. This byte is split\n",
    "into two 4-bit parts: the high-order, or code, part, and the low-order, or function,\n",
    "part. Observe that\n",
    "rrmovq has the same instruction code as the conditional moves. It can be viewed\n",
    "as an “unconditional move” just as the jmp instruction is an unconditional jump,\n",
    "both having function code 0.\n",
    "\n",
    "![](./asset/ch4/3.png)\n",
    "![](./asset/ch4/4.png)\n",
    "\n",
    "As shown in Figure 4.4, each of the 15 program registers has an associated\n",
    "register identifier (ID) ranging from $0$ to $0xE$. The numbering of registers in Y86-64 matches what is used in x86-64. The program registers are stored within the CPU in a register file, a small random access memory where the register IDs serve as addresses. ID value $0xF$ is used in the instruction encodings and within our hardware designs when we need to indicate that no register should be accessed.\n",
    "\n",
    "### 4.1.4 Y86-64 Exceptions\n",
    "\n"
   ]
  },
  {
   "cell_type": "code",
   "execution_count": null,
   "id": "99b28258-3bec-47e3-ace1-87bc6da06fa0",
   "metadata": {},
   "outputs": [],
   "source": []
  }
 ],
 "metadata": {
  "kernelspec": {
   "display_name": "Python 3 (ipykernel)",
   "language": "python",
   "name": "python3"
  },
  "language_info": {
   "codemirror_mode": {
    "name": "ipython",
    "version": 3
   },
   "file_extension": ".py",
   "mimetype": "text/x-python",
   "name": "python",
   "nbconvert_exporter": "python",
   "pygments_lexer": "ipython3",
   "version": "3.8.18"
  }
 },
 "nbformat": 4,
 "nbformat_minor": 5
}
