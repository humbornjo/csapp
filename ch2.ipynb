{
 "cells": [
  {
   "cell_type": "markdown",
   "id": "7b2b91fe-ad64-42f7-9890-6992e5aaf006",
   "metadata": {},
   "source": [
    "## 2.1.2\n",
    "为什么 32 位的系统的虚拟内存只能限制在 4GB\n",
    "\n",
    "可以表示 $2^{32}-1$ 个位置，也就是 4GB"
   ]
  },
  {
   "cell_type": "markdown",
   "id": "02b7c3b3-462b-49d6-a8f7-a90a6d33f867",
   "metadata": {
    "tags": []
   },
   "source": [
    "## 2.1.3\n",
    "big/little endian\n",
    "\n",
    "Consider a $w$-bit integer having a bit representation $[x_{w−1}, x_{w−2}, . . . , x_1, x_0]$, where $x_{w−1}$ is the most significant bit and $x_0$ is the least.\n",
    "\n",
    "对于 $0x01234567$\n",
    "* 大端就是重要的优先，也就是最符合人类直觉的存储方式 $01\\ 23\\ 45\\ 67$\n",
    "* 小端则是恰好反过来 $67\\ 45\\ 23\\ 01$\n",
    "\n",
    "但是需要注意，在计算机中 $[x_{w−1}, x_{w−2}, . . . , x_1, x_0]$ 中，越往右，计算机的字节地址就越大。所以大端的最高阶Byte $01$ 反而是存储在计算机地址的低位；而小端的 $01$ 则是存储在计算机地址的最高位，符合“计算机”的直觉。"
   ]
  },
  {
   "cell_type": "code",
   "execution_count": 23,
   "id": "a06b176c-6143-4405-9399-886bfbc5fdce",
   "metadata": {
    "tags": []
   },
   "outputs": [
    {
     "name": "stdout",
     "output_type": "stream",
     "text": [
      " 52 bf 01 00\n",
      " 00 a9 df 47\n",
      " 3c ae 1a 6f 01 00 00 00\n",
      " 38 ae 1a 6f 01 00 00 00\n"
     ]
    }
   ],
   "source": [
    "#include <stdio.h>\n",
    "\n",
    "typedef unsigned char *byte_pointer;\n",
    "void show_bytes(byte_pointer start, size_t len) {\n",
    "    int i;\n",
    "    for (i=0;i<len;i++) printf(\" %.2x\", start[i]);\n",
    "    printf(\"\\n\");\n",
    "}\n",
    "void show_int(int x) {\n",
    "    show_bytes((byte_pointer) &x, sizeof(int));\n",
    "}\n",
    "void show_float(float x) {\n",
    "    show_bytes((byte_pointer) &x, sizeof(float));\n",
    "}\n",
    "void show_pointer(void *x) {\n",
    "    show_bytes((byte_pointer) &x, sizeof(void *));\n",
    "}\n",
    "\n",
    "int main() {\n",
    "    int i32 = 114514; // 0x01_bf_52 \n",
    "    show_int(i32); // 很显然 macbook air m2 是小端\n",
    "    \n",
    "    float f32 = (float) i32;\n",
    "    show_float(f32);\n",
    "    \n",
    "    // 地址正好是高地址向低地址增长 4Byte\n",
    "    show_pointer(&i32);\n",
    "    show_pointer(&f32);\n",
    "}"
   ]
  },
  {
   "cell_type": "code",
   "execution_count": 39,
   "id": "1e7a961f-6a50-4418-adcf-ca84b78cdc3e",
   "metadata": {
    "tags": []
   },
   "outputs": [
    {
     "name": "stdout",
     "output_type": "stream",
     "text": [
      "00000000001001111100100011111000\n",
      "01001010010101100100010100000100\n"
     ]
    }
   ],
   "source": [
    "// Practice 2.6\n",
    "#include<stdio.h>\n",
    "\n",
    "typedef unsigned char *byte_pointer;\n",
    "void show_bits(byte_pointer start, size_t len) {    \n",
    "    for (int i=len-1;i>=0;i--) {\n",
    "        for (int j=7;j>=0;j--) printf(\"%u\", start[i]>>j & 1);\n",
    "    }\n",
    "    printf(\"\\n\");\n",
    "}\n",
    "void show_int(int x) {\n",
    "    show_bits((byte_pointer) &x, sizeof(int));\n",
    "}\n",
    "void show_float(float x) {\n",
    "    show_bits((byte_pointer) &x, sizeof(float));\n",
    "}\n",
    "int main () {\n",
    "    int a = 2607352;\n",
    "    show_int(a);\n",
    "    \n",
    "    long b = 3510593.0;\n",
    "    show_float(b);\n",
    "}\n",
    "\n",
    "// 110010001 match"
   ]
  },
  {
   "cell_type": "code",
   "execution_count": 2,
   "id": "22eabcc8-7b41-4fb2-8cc7-3251e216f790",
   "metadata": {
    "tags": []
   },
   "outputs": [
    {
     "name": "stdout",
     "output_type": "stream",
     "text": [
      " 6d 6e 6f 70 71 72\n"
     ]
    }
   ],
   "source": [
    "// Practice 2.7\n",
    "#include<string.h>\n",
    "#include<stdio.h>\n",
    "\n",
    "typedef unsigned char *byte_pointer;\n",
    "void show_bytes(byte_pointer start, size_t len) {\n",
    "    int i;\n",
    "    for (i=0;i<len;i++) printf(\" %.2x\", start[i]);\n",
    "    printf(\"\\n\");\n",
    "}\n",
    "\n",
    "int main(){\n",
    "    const char *m = \"mnopqr\";\n",
    "    show_bytes((byte_pointer) m, strlen(m));\n",
    "}\n",
    "\n",
    "// letters ‘a’ through ‘z’ have ASCII codes 0x61 through 0x7A.\n",
    "// m = 0x6d, r = 0x72"
   ]
  },
  {
   "cell_type": "code",
   "execution_count": 14,
   "id": "891593f8-9cfa-419a-9c98-33334f45a8db",
   "metadata": {},
   "outputs": [
    {
     "name": "stdout",
     "output_type": "stream",
     "text": [
      " 21 00 00 00\n",
      " 21 bc 9a 78\n"
     ]
    }
   ],
   "source": [
    "// Practice 2.12\n",
    "\n",
    "#include<stdio.h>\n",
    "typedef unsigned char *byte_pointer;\n",
    "void keep_least_significant(byte_pointer start, size_t len) {\n",
    "    int i;\n",
    "    for (i=1;i<len;i++) start[i] &= 0;\n",
    "}\n",
    "\n",
    "void complement_but_least(byte_pointer start, size_t len) {\n",
    "    int i;\n",
    "    for (i=1;i<len;i++) start[i] = ~start[i];\n",
    "}\n",
    "\n",
    "void show_bytes(byte_pointer start, size_t len) {\n",
    "    int i;\n",
    "    for (i=0;i<len;i++) printf(\" %.2x\", start[i]);\n",
    "    printf(\"\\n\");\n",
    "}\n",
    "\n",
    "int main(){\n",
    "    int x = 0x87654321;\n",
    "    keep_least_significant((byte_pointer) &x, sizeof(int));\n",
    "    show_bytes((byte_pointer) &x, sizeof(int));\n",
    "    \n",
    "    x = 0x87654321;\n",
    "    complement_but_least((byte_pointer) &x, sizeof(int));\n",
    "    show_bytes((byte_pointer) &x, sizeof(int));\n",
    "}"
   ]
  },
  {
   "cell_type": "code",
   "execution_count": 18,
   "id": "54992308-db68-4a65-9d84-04512fa1db85",
   "metadata": {
    "tags": []
   },
   "outputs": [
    {
     "name": "stdout",
     "output_type": "stream",
     "text": [
      "ans: 1"
     ]
    }
   ],
   "source": [
    "// Practice 2.13\n",
    "#include<stdio.h>\n",
    "\n",
    "int bis(int x, int m){ return x|m; }\n",
    "int bic(int x, int m){ return x&~m; }\n",
    "int or(int x, int y){ return bis(x,y); }\n",
    "int xor(int x, int y){ return bis(bic(x,y), bic(y,x)); }\n",
    "\n",
    "int main(){\n",
    "    int i,j;\n",
    "    i=0;\n",
    "    j=0x01;\n",
    "\n",
    "    printf(\"ans: %d\", xor(i, j));\n",
    "    return 0;\n",
    "}"
   ]
  },
  {
   "cell_type": "code",
   "execution_count": 28,
   "id": "0b1e801f-f860-48ee-a55a-2e536d8763d7",
   "metadata": {
    "tags": []
   },
   "outputs": [
    {
     "name": "stdout",
     "output_type": "stream",
     "text": [
      "i = 114514, j = 114514\n",
      "i == j\n",
      "i = 114514, j = 11451419\n",
      "i != j\n"
     ]
    }
   ],
   "source": [
    "// Practice 2.15\n",
    "#include<stdbool.h>\n",
    "#include<stdio.h>\n",
    "\n",
    "bool myEq(int x, int y) {\n",
    "    return !(~x & y);\n",
    "}\n",
    "\n",
    "int main(){\n",
    "    int i,j;\n",
    "    i=114514;\n",
    "    j=114514;\n",
    "    \n",
    "    printf(\"i = %d, j = %d\\n\", i, j);\n",
    "    if (myEq(i, j)) { printf(\"i == j\\n\"); }\n",
    "    else { printf(\"i != j\\n\"); }\n",
    "    \n",
    "    i=114514;\n",
    "    j=11451419;\n",
    "    \n",
    "    printf(\"i = %d, j = %d\\n\", i, j);\n",
    "    if (myEq(i, j)) { printf(\"i == j\\n\"); }\n",
    "    else { printf(\"i != j\\n\"); }\n",
    "}"
   ]
  },
  {
   "cell_type": "code",
   "execution_count": 32,
   "id": "212f4b56-3405-43a7-ba6c-ffe17ab301ed",
   "metadata": {
    "tags": []
   },
   "outputs": [],
   "source": [
    "// Practice 2.25\n",
    "#include<stdio.h>\n",
    "\n",
    "float sum_elements(float a[], int length){\n",
    "    int i;\n",
    "    float result = 0;\n",
    "\n",
    "    for(i = 0; i <= length-1; i++){\n",
    "        if(i==1) printf(\"hi here %d %d\\n\", i, i==1);\n",
    "        //printf(\"hi here %d %d\\n\", i, i==1);\n",
    "        result +=a[i];\n",
    "    }\n",
    "    return result;\n",
    "}\n",
    "\n",
    "int main(){\n",
    "    float a[] = {1,2,3,4};\n",
    "    int length = 0;\n",
    "    return sum_elements(a, length);\n",
    "} "
   ]
  },
  {
   "cell_type": "code",
   "execution_count": 47,
   "id": "2cc62d46-c67b-459d-8ce6-6644136ea8c2",
   "metadata": {
    "tags": []
   },
   "outputs": [
    {
     "name": "stdout",
     "output_type": "stream",
     "text": [
      "add with overflow\n"
     ]
    }
   ],
   "source": [
    "// Practice 2.30\n",
    "#include<stdio.h>\n",
    "#include<limits.h>\n",
    "\n",
    "int add_ok(int x, int y){\n",
    "    int sum = x+y;\n",
    "    int neg_over = x < 0 && y < 0 && sum > 0;\n",
    "    int pos_over = x > 0 && y > 0 && sum < 0;\n",
    "    return !neg_over && !pos_over;\n",
    "}\n",
    "\n",
    "int main(){\n",
    "    int a, b = 114514;\n",
    "    a = INT_MAX;\n",
    "    if (add_ok(a, b)) {\n",
    "        printf(\"add with no overflow\\n\");\n",
    "    } else {\n",
    "        printf(\"add with overflow\\n\");\n",
    "    }\n",
    "}"
   ]
  },
  {
   "cell_type": "markdown",
   "id": "d3421673-ddd7-4a88-85c9-30573b59a29a",
   "metadata": {},
   "source": [
    "## 2.4.1 Fractional Binary Numbers\n",
    "\n",
    "A first step in understanding floating-point numbers is to consider binary numbers having fractional values.\n",
    "\n",
    "$$d_m\\ d_{m−1}\\ ...d_1\\ d_0\\ .\\ d_{−1}\\ d_{−2}\\  ...d_{−n}$$\n",
    "\n",
    "where each decimal digit $d_i$ ranges between $0$ and $9$. This notation represents a value $d$ defined as\n",
    "\n",
    "$$ d = \\sum_{i = -n}^{m} 10^i \\times d_i$$\n",
    "\n",
    "By analogy, consider a notation of the form\n",
    "\n",
    "$$b_m\\ b_{m−1}\\ ...b_1\\ b_0\\ .\\ b_{−1}\\ b_{−2}\\  ...b_{−n}$$\n",
    "\n",
    "where each binary digit, or bit, bi ranges between $0$ and $1$. This notation represents a number $b$ defined as\n",
    "\n",
    "$$ b = \\sum_{i = -n}^{m} 2^i \\times b_i$$\n",
    "\n",
    "### How to convert fractions to binary\n",
    "$0.2912×2=0.5824 → 0.0$\n",
    "\n",
    "$0.5824×2=1.1648 → 0.01$\n",
    "\n",
    "$0.1684×2=0.3368 → 0.010$\n",
    "\n",
    "$0.3368×2=0.6736 → 0.0100$\n",
    "\n",
    "$0.6736×2=1.3472 → 0.01001$\n",
    "\n",
    "$0.3472×2=0.6944 → 0.010010$\n",
    "\n",
    "$0.6944×2=1.3888 → 0.0100101$"
   ]
  },
  {
   "cell_type": "markdown",
   "id": "a1e42132-23f1-469c-b49e-f59d96bcda64",
   "metadata": {},
   "source": [
    "## 2.4.2 IEEE Floating-Point Representation\n",
    "\n",
    "The IEEE floating-point standard represents a number in a form $V = (−1)^s × M × 2^E$:\n",
    "\n",
    "* The sign $s$ determines whether the number is negative ($s = 1$) or positive ($s = 0$), where the interpretation of the sign bit for numeric value $0$ is handled as a special case.\n",
    "* The significand $M$ is a fractional binary number that ranges either between 1 and $2 − ε$ or between $0$ and $1 − ε$.\n",
    "* The exponent $E$ weights the value by a (possibly negative) power of $2$.\n",
    "\n",
    "![image.png](asset/ch2/1.png)\n",
    "\n",
    "The bit representation of a floating-point number is divided into three fields to encode these values:\n",
    "\n",
    "* The single sign bit s directly encodes the sign s.\n",
    "* The k-bit exponent field $exp = e_{k−1}\\ ...\\ e_1e_0$ encodes the exponent $E$.\n",
    "* The n-bit fraction field $frac = f_{n−1}\\ ...\\ f_1f_0$ encodes the significand $M$, but the value encoded also depends on whether or not the exponent field equals $0$."
   ]
  },
  {
   "cell_type": "code",
   "execution_count": null,
   "id": "d02fba3b-a93c-4070-98e1-f91d77c01f92",
   "metadata": {},
   "outputs": [],
   "source": [
    "// Practice 2.65\n",
    "\n",
    "#include <stdio.h>\n",
    "#include <assert.h>\n",
    "\n",
    "int odd_ones(unsigned x) {\n",
    "  x ^= x >> 16;\n",
    "  x ^= x >> 8;\n",
    "  x ^= x >> 4;\n",
    "  x ^= x >> 2;\n",
    "  x ^= x >> 1;\n",
    "  x &= 0x1;\n",
    "  return x;\n",
    "}\n",
    "\n",
    "int main(int argc, char* argv[]) {\n",
    "  assert(odd_ones(0x10101011));\n",
    "  assert(!odd_ones(0x01010101));\n",
    "  return 0;\n",
    "}\n",
    "\n",
    "// refer to '2.1.3 Odd Number of Signals' in Game: 'Turing Complete'"
   ]
  }
 ],
 "metadata": {
  "kernelspec": {
   "display_name": "Python 3 (ipykernel)",
   "language": "python",
   "name": "python3"
  },
  "language_info": {
   "codemirror_mode": {
    "name": "ipython",
    "version": 3
   },
   "file_extension": ".py",
   "mimetype": "text/x-python",
   "name": "python",
   "nbconvert_exporter": "python",
   "pygments_lexer": "ipython3",
   "version": "3.8.18"
  }
 },
 "nbformat": 4,
 "nbformat_minor": 5
}
